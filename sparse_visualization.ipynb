{
 "cells": [
  {
   "cell_type": "code",
   "execution_count": 15,
   "metadata": {},
   "outputs": [
    {
     "name": "stdout",
     "output_type": "stream",
     "text": [
      "Token Colorization:\n"
     ]
    },
    {
     "name": "stderr",
     "output_type": "stream",
     "text": [
      "C:\\Users\\Usuario\\AppData\\Local\\Temp\\ipykernel_28108\\4163705242.py:22: FutureWarning: You are using `torch.load` with `weights_only=False` (the current default value), which uses the default pickle module implicitly. It is possible to construct malicious pickle data which will execute arbitrary code during unpickling (See https://github.com/pytorch/pytorch/blob/main/SECURITY.md#untrusted-models for more details). In a future release, the default value for `weights_only` will be flipped to `True`. This limits the functions that could be executed during unpickling. Arbitrary objects will no longer be allowed to be loaded via this mode unless they are explicitly allowlisted by the user via `torch.serialization.add_safe_globals`. We recommend you start setting `weights_only=True` for any use case where you don't have full control of the loaded file. Please open an issue on GitHub for any issues related to this experimental feature.\n",
      "  activation_data = torch.load(\"../activation_data.pt\")\n",
      "C:\\Users\\Usuario\\AppData\\Local\\Temp\\ipykernel_28108\\4163705242.py:29: FutureWarning: You are using `torch.load` with `weights_only=False` (the current default value), which uses the default pickle module implicitly. It is possible to construct malicious pickle data which will execute arbitrary code during unpickling (See https://github.com/pytorch/pytorch/blob/main/SECURITY.md#untrusted-models for more details). In a future release, the default value for `weights_only` will be flipped to `True`. This limits the functions that could be executed during unpickling. Arbitrary objects will no longer be allowed to be loaded via this mode unless they are explicitly allowlisted by the user via `torch.serialization.add_safe_globals`. We recommend you start setting `weights_only=True` for any use case where you don't have full control of the loaded file. Please open an issue on GitHub for any issues related to this experimental feature.\n",
      "  sae.load_state_dict(torch.load(\"../sae_model3.pth\", map_location=torch.device(\"cpu\")))\n"
     ]
    },
    {
     "data": {
      "text/html": [
       "<p style=\"font-family:monospace;\"><span style=\"background-color: rgba(68, 1, 84, 1.00);\">he</span> <span style=\"background-color: rgba(68, 1, 84, 1.00);\">cat</span> <span style=\"background-color: rgba(68, 1, 84, 1.00);\">sat</span> <span style=\"background-color: rgba(68, 1, 84, 1.00);\">on</span> <span style=\"background-color: rgba(68, 1, 84, 1.00);\">the</span> <span style=\"background-color: rgba(68, 1, 84, 1.00);\">mat</span> <span style=\"background-color: rgba(68, 1, 84, 1.00);\"></span></p>"
      ],
      "text/plain": [
       "<IPython.core.display.HTML object>"
      ]
     },
     "metadata": {},
     "output_type": "display_data"
    },
    {
     "data": {
      "text/html": [
       "<p style=\"font-family:monospace;\"><span style=\"background-color: rgba(68, 1, 84, 1.00);\"></span> <span style=\"background-color: rgba(68, 1, 84, 1.00);\">love</span> <span style=\"background-color: rgba(68, 1, 84, 1.00);\">w</span> <span style=\"background-color: rgba(68, 1, 84, 1.00);\">th</span> <span style=\"background-color: rgba(68, 1, 84, 1.00);\">hing</span> <span style=\"background-color: rgba(68, 1, 84, 1.00);\">the</span> <span style=\"background-color: rgba(253, 231, 36, 1.00);\">BBC</span></p>"
      ],
      "text/plain": [
       "<IPython.core.display.HTML object>"
      ]
     },
     "metadata": {},
     "output_type": "display_data"
    },
    {
     "data": {
      "text/html": [
       "<p style=\"font-family:monospace;\"><span style=\"background-color: rgba(68, 1, 84, 1.00);\"></span> <span style=\"background-color: rgba(68, 1, 84, 1.00);\">love</span> <span style=\"background-color: rgba(68, 1, 84, 1.00);\">watching</span> <span style=\"background-color: rgba(68, 1, 84, 1.00);\">TV</span></p>"
      ],
      "text/plain": [
       "<IPython.core.display.HTML object>"
      ]
     },
     "metadata": {},
     "output_type": "display_data"
    },
    {
     "data": {
      "text/html": [
       "<p style=\"font-family:monospace;\"><span style=\"background-color: rgba(68, 1, 84, 1.00);\"></span> <span style=\"background-color: rgba(68, 1, 84, 1.00);\">love</span> <span style=\"background-color: rgba(68, 1, 84, 1.00);\">watching</span> <span style=\"background-color: rgba(68, 1, 84, 1.00);\">Netflix</span></p>"
      ],
      "text/plain": [
       "<IPython.core.display.HTML object>"
      ]
     },
     "metadata": {},
     "output_type": "display_data"
    },
    {
     "data": {
      "text/html": [
       "<p style=\"font-family:monospace;\"><span style=\"background-color: rgba(68, 1, 84, 1.00);\"></span> <span style=\"background-color: rgba(68, 1, 84, 1.00);\">love</span> <span style=\"background-color: rgba(68, 1, 84, 1.00);\">watching</span> <span style=\"background-color: rgba(68, 1, 84, 1.00);\">RT</span> <span style=\"background-color: rgba(68, 1, 84, 1.00);\">E</span></p>"
      ],
      "text/plain": [
       "<IPython.core.display.HTML object>"
      ]
     },
     "metadata": {},
     "output_type": "display_data"
    },
    {
     "data": {
      "text/html": [
       "<p style=\"font-family:monospace;\"><span style=\"background-color: rgba(68, 1, 84, 1.00);\"></span> <span style=\"background-color: rgba(68, 1, 84, 1.00);\">like</span> <span style=\"background-color: rgba(68, 1, 84, 1.00);\">english</span> <span style=\"background-color: rgba(68, 1, 84, 1.00);\">channels</span> <span style=\"background-color: rgba(68, 1, 84, 1.00);\"></span> <span style=\"background-color: rgba(68, 1, 84, 1.00);\">like</span></p>"
      ],
      "text/plain": [
       "<IPython.core.display.HTML object>"
      ]
     },
     "metadata": {},
     "output_type": "display_data"
    }
   ],
   "source": [
    "import torch\n",
    "import torch.nn as nn\n",
    "import umap.umap_ as umap\n",
    "\n",
    "import numpy as np\n",
    "import matplotlib.pyplot as plt\n",
    "from transformers import AutoModelForCausalLM, AutoTokenizer\n",
    "from sklearn.preprocessing import StandardScaler\n",
    "from matplotlib.colors import Normalize\n",
    "from matplotlib.cm import ScalarMappable\n",
    "from IPython.display import display, HTML\n",
    "import seaborn as sns\n",
    "from sparse_auto import SAE\n",
    "\n",
    "# Load Model and Tokenizer\n",
    "device = torch.device(\"cuda\" if torch.cuda.is_available() else \"cpu\")\n",
    "model_name = \"HuggingFaceTB/SmolLM2-135M-Instruct\"\n",
    "model = AutoModelForCausalLM.from_pretrained(model_name).to(device)\n",
    "tokenizer = AutoTokenizer.from_pretrained(model_name)\n",
    "\n",
    "# Load SAE\n",
    "activation_data = torch.load(\"../activation_data.pt\")\n",
    "mlp_dim = activation_data.shape[-1]\n",
    "hidden_dim_multiplier = 8\n",
    "hidden_dim = hidden_dim_multiplier * mlp_dim\n",
    "layer_index = 15\n",
    "\n",
    "sae = SAE(mlp_dim, hidden_dim).to(device)\n",
    "sae.load_state_dict(torch.load(\"../sae_model3.pth\", map_location=torch.device(\"cpu\")))\n",
    "sae.eval()\n",
    "\n",
    "# Functions\n",
    "\n",
    "def tokenize_and_get_activations(text):\n",
    "    inputs = tokenizer(text, return_tensors=\"pt\", padding=True, truncation=True).to(device)\n",
    "    outputs = model(**inputs, output_hidden_states=True)\n",
    "    layer_activations = outputs.hidden_states[layer_index]  # Change as needed\n",
    "    return inputs, layer_activations\n",
    "\n",
    "def color_tokens_by_feature(text, feature_index):\n",
    "    inputs, activations = tokenize_and_get_activations(text)\n",
    "    feature_activations, _ = sae(activations[0])  # SAE encodings\n",
    "\n",
    "    # Normalize activations for visualization\n",
    "    norm = Normalize(vmin=feature_activations[:, feature_index].min().item(), \n",
    "                     vmax=feature_activations[:, feature_index].max().item())\n",
    "    colors = [plt.cm.viridis(norm(a.item())) for a in feature_activations[:, feature_index]]\n",
    "\n",
    "    # HTML output\n",
    "    tokens = tokenizer.convert_ids_to_tokens(inputs[\"input_ids\"][0])\n",
    "    colored_text = \" \".join([\n",
    "        f'<span style=\"background-color: rgba({int(c[0]*255)}, {int(c[1]*255)}, {int(c[2]*255)}, {c[3]:.2f});\">{t[1:]}</span>'\n",
    "        for t, c in zip(tokens, colors)])\n",
    "\n",
    "    display(HTML(f'<p style=\"font-family:monospace;\">{colored_text}</p>'))\n",
    "\n",
    "def plot_interactive_umap(texts):\n",
    "    all_activations = []\n",
    "\n",
    "    for text in texts:\n",
    "        _, activations = tokenize_and_get_activations(text)\n",
    "        feature_activations, _ = sae(activations[0])\n",
    "        all_activations.append(feature_activations.detach().cpu().numpy())\n",
    "\n",
    "    all_activations = np.vstack(all_activations)\n",
    "    reducer = umap.UMAP(random_state=42)\n",
    "    embeddings = reducer.fit_transform(all_activations)\n",
    "\n",
    "    # Scatterplot\n",
    "    plt.figure(figsize=(10, 7))\n",
    "    scatter = plt.scatter(embeddings[:, 0], embeddings[:, 1], c=np.arange(embeddings.shape[0]), cmap=\"viridis\", s=10)\n",
    "    plt.colorbar(scatter, label=\"Sample Index\")\n",
    "    plt.title(\"UMAP of Feature Activations\")\n",
    "    plt.show()\n",
    "\n",
    "def plot_feature_similarity_matrix(texts):\n",
    "    all_features = []\n",
    "\n",
    "    for text in texts:\n",
    "        _, activations = tokenize_and_get_activations(text)\n",
    "        feature_activations, _ = sae(activations[0])\n",
    "        all_features.append(feature_activations.mean(dim=0).detach().cpu().numpy())\n",
    "\n",
    "    similarity_matrix = np.corrcoef(all_features)\n",
    "\n",
    "    sns.heatmap(similarity_matrix, annot=True, cmap=\"coolwarm\", xticklabels=texts, yticklabels=texts)\n",
    "    plt.title(\"Feature Similarity Matrix\")\n",
    "    plt.show()\n",
    "\n",
    "# Example Usage\n",
    "sample_texts = [\n",
    "    \"The cat sat on the mat.\",\n",
    "    \"A dog barked loudly.\",\n",
    "    \"The sky is blue and clear.\",\n",
    "    \"I love programming in Python.\"\n",
    "]\n",
    "\n",
    "print(\"Token Colorization:\")\n",
    "color_tokens_by_feature(\"The cat sat on the mat.\", feature_index=158)\n",
    "\n",
    "\n",
    "bbcss = [\"I love wathching the BBC\",\n",
    "    \"I love watching TV\",\n",
    "    \"I love watching Netflix\",\n",
    "    \"I love watching RTVE\",\n",
    "    \"I like english channels, like\"]\n",
    "\n",
    "for text in bbcss:\n",
    "    color_tokens_by_feature(text, feature_index=158)\n",
    "\n"
   ]
  },
  {
   "cell_type": "code",
   "execution_count": null,
   "metadata": {},
   "outputs": [],
   "source": [
    "\n",
    "print(\"Interactive UMAP:\")\n",
    "plot_interactive_umap(sample_texts)\n",
    "\n",
    "print(\"Feature Similarity Matrix:\")\n",
    "plot_feature_similarity_matrix(sample_texts)"
   ]
  }
 ],
 "metadata": {
  "kernelspec": {
   "display_name": "Python 3",
   "language": "python",
   "name": "python3"
  },
  "language_info": {
   "codemirror_mode": {
    "name": "ipython",
    "version": 3
   },
   "file_extension": ".py",
   "mimetype": "text/x-python",
   "name": "python",
   "nbconvert_exporter": "python",
   "pygments_lexer": "ipython3",
   "version": "3.11.9"
  }
 },
 "nbformat": 4,
 "nbformat_minor": 2
}
